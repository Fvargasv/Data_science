{
  "nbformat": 4,
  "nbformat_minor": 0,
  "metadata": {
    "colab": {
      "provenance": [],
      "authorship_tag": "ABX9TyPWnPalF2dxyGNZTt6Xbydd",
      "include_colab_link": true
    },
    "kernelspec": {
      "name": "python3",
      "display_name": "Python 3"
    },
    "language_info": {
      "name": "python"
    }
  },
  "cells": [
    {
      "cell_type": "markdown",
      "metadata": {
        "id": "view-in-github",
        "colab_type": "text"
      },
      "source": [
        "<a href=\"https://colab.research.google.com/github/Fvargasv/Data_science/blob/main/cuaderno_practica.ipynb\" target=\"_parent\"><img src=\"https://colab.research.google.com/assets/colab-badge.svg\" alt=\"Open In Colab\"/></a>"
      ]
    },
    {
      "cell_type": "code",
      "execution_count": null,
      "metadata": {
        "id": "CLUiBLNfMM5M",
        "outputId": "36afcac2-6b7b-4fcc-931d-3306c94b074d",
        "colab": {
          "base_uri": "https://localhost:8080/"
        }
      },
      "outputs": [
        {
          "output_type": "stream",
          "name": "stdout",
          "text": [
            "Ingresa el primer número: 9\n",
            "Ingresa el segundo número: 14\n",
            "El número más grande es: 14.0\n"
          ]
        }
      ],
      "source": [
        "#1 - Escribe un programa que pida a la persona usuaria que proporcione dos números y muestre el número más grande.\n",
        "n1 = float(input(\"Ingresa el primer número: \"))\n",
        "n2 = float(input(\"Ingresa el segundo número: \"))\n",
        "if n1 > n2:\n",
        "    print(f'El número más grande es: {n1}')\n",
        "else:\n",
        "    print(f'El número más grande es: {n2}')"
      ]
    },
    {
      "cell_type": "code",
      "source": [
        "#Vamos a construir un ejemplo con un contador de 1 hasta 10 usando while\n",
        "\n",
        "contador = 1\n",
        "while contador <= 10:\n",
        "    print(contador)\n",
        "    contador += 1\n",
        "#Vamos a construir un ejemplo con un contador de 1 hasta 10 usando for\n",
        "\n",
        "for contador in range(1, 11):\n",
        "    print(contador)\n"
      ],
      "metadata": {
        "colab": {
          "base_uri": "https://localhost:8080/"
        },
        "id": "dixxkBJpadb4",
        "outputId": "b0f014af-97a8-4839-f979-1696d4668e92"
      },
      "execution_count": 1,
      "outputs": [
        {
          "output_type": "stream",
          "name": "stdout",
          "text": [
            "1\n",
            "2\n",
            "3\n",
            "4\n",
            "5\n",
            "6\n",
            "7\n",
            "8\n",
            "9\n",
            "10\n",
            "1\n",
            "2\n",
            "3\n",
            "4\n",
            "5\n",
            "6\n",
            "7\n",
            "8\n",
            "9\n",
            "10\n"
          ]
        }
      ]
    },
    {
      "cell_type": "code",
      "source": [
        "for i in range(1, 6):\n",
        "    if i == 4:\n",
        "        break\n",
        "    print(i)"
      ],
      "metadata": {
        "colab": {
          "base_uri": "https://localhost:8080/"
        },
        "id": "TpY9r29ne_8h",
        "outputId": "b9775b8a-35e2-4683-ec85-7327002aefb7"
      },
      "execution_count": 2,
      "outputs": [
        {
          "output_type": "stream",
          "name": "stdout",
          "text": [
            "1\n",
            "2\n",
            "3\n"
          ]
        }
      ]
    },
    {
      "cell_type": "code",
      "source": [
        "for i in range(1, 6):\n",
        "    if i == 4:\n",
        "        continue\n",
        "    print(i)"
      ],
      "metadata": {
        "colab": {
          "base_uri": "https://localhost:8080/"
        },
        "id": "RN09Wcs6fFKZ",
        "outputId": "7760bea6-db42-4d0b-b826-bf4c92b2079b"
      },
      "execution_count": 3,
      "outputs": [
        {
          "output_type": "stream",
          "name": "stdout",
          "text": [
            "1\n",
            "2\n",
            "3\n",
            "5\n"
          ]
        }
      ]
    },
    {
      "cell_type": "code",
      "source": [
        "#Escribe un programa que solicite dos números enteros e imprima todos los números enteros entre ellos.\n",
        "n_1 = int(input(\"Ingresa el primer número: \"))\n",
        "n_2 = int(input(\"Ingresa el segundo número: \"))\n",
        "\n",
        "for i in range (n_1+1, n_2):\n",
        "    print(i)"
      ],
      "metadata": {
        "colab": {
          "base_uri": "https://localhost:8080/"
        },
        "id": "F8iSwqe5g4Lv",
        "outputId": "601e99fe-fed3-4905-f2f2-a4f52d093c17"
      },
      "execution_count": 7,
      "outputs": [
        {
          "output_type": "stream",
          "name": "stdout",
          "text": [
            "Ingresa el primer número: 5\n",
            "Ingresa el segundo número: 11\n",
            "6\n",
            "7\n",
            "8\n",
            "9\n",
            "10\n"
          ]
        }
      ]
    },
    {
      "cell_type": "code",
      "source": [
        "#2 - Escribe un programa para calcular cuántos días tomará que la colonia de una bacteria A supere o iguale a la colonia de una bacteria B, basado en tasas de crecimiento del 3% y 1.5%, respectivamente. Supón que la colonia A comienza con 4 elementos y B con 10.\n",
        "contador = 1\n",
        "colonia_A = 4\n",
        "colonia_B = 10\n",
        "\n",
        "while colonia_A < colonia_B:\n",
        "    colonia_A = colonia_A * 1.03\n",
        "    colonia_B = colonia_B * 1.015\n",
        "    contador += 1\n",
        "\n",
        "print(f'Tomará {contador} días que la colonia A supere a la colonia B.')\n",
        "\n",
        "\n"
      ],
      "metadata": {
        "colab": {
          "base_uri": "https://localhost:8080/"
        },
        "id": "KAdMhMmQhi1E",
        "outputId": "d0c29294-80dd-43d1-dc4c-dcae6c419e92"
      },
      "execution_count": 9,
      "outputs": [
        {
          "output_type": "stream",
          "name": "stdout",
          "text": [
            "Tomará 64 días que la colonia A supere a la colonia B.\n"
          ]
        }
      ]
    },
    {
      "cell_type": "code",
      "source": [
        "#Para procesar una cantidad de 15 datos de evaluaciones de usuarios de un servicio de la empresa, necesitamos verificar si las calificaciones son válidas. Por lo tanto, escribe un programa que recibirá calificaciones del 0 al 5 y verificará si son valores válidos. Si se ingresa una calificación superior a 5 o inferior a 0, se repetirá hasta que el usuario ingrese un valor válido.\n",
        "\n",
        "for n in range(15):\n",
        "    calificacion = float(input(\"Ingresa una calificación del 0 al 5: \"))\n",
        "    if calificacion >= 0 and calificacion <= 5:\n",
        "        print(f'La calificación {calificacion} es válida.')\n",
        "    else:\n",
        "        print(f'La calificación {calificacion} no es válida.')\n",
        "\n",
        "\n",
        "\n",
        "\n",
        "\n"
      ],
      "metadata": {
        "colab": {
          "base_uri": "https://localhost:8080/"
        },
        "id": "X71-4JW_iw6d",
        "outputId": "68fed24e-045c-4d7e-9c31-54e53e845677"
      },
      "execution_count": 11,
      "outputs": [
        {
          "output_type": "stream",
          "name": "stdout",
          "text": [
            "Ingresa una calificación del 0 al 5: 9\n",
            "La calificación 9.0 no es válida.\n",
            "Ingresa una calificación del 0 al 5: -7\n",
            "La calificación -7.0 no es válida.\n",
            "Ingresa una calificación del 0 al 5: 4\n",
            "La calificación 4.0 es válida.\n",
            "Ingresa una calificación del 0 al 5: 4\n",
            "La calificación 4.0 es válida.\n",
            "Ingresa una calificación del 0 al 5: 4\n",
            "La calificación 4.0 es válida.\n",
            "Ingresa una calificación del 0 al 5: 4\n",
            "La calificación 4.0 es válida.\n",
            "Ingresa una calificación del 0 al 5: 4\n",
            "La calificación 4.0 es válida.\n",
            "Ingresa una calificación del 0 al 5: 4\n",
            "La calificación 4.0 es válida.\n",
            "Ingresa una calificación del 0 al 5: 4\n",
            "La calificación 4.0 es válida.\n",
            "Ingresa una calificación del 0 al 5: 4\n",
            "La calificación 4.0 es válida.\n",
            "Ingresa una calificación del 0 al 5: 4\n",
            "La calificación 4.0 es válida.\n",
            "Ingresa una calificación del 0 al 5: 4\n",
            "La calificación 4.0 es válida.\n",
            "Ingresa una calificación del 0 al 5: 4\n",
            "La calificación 4.0 es válida.\n",
            "Ingresa una calificación del 0 al 5: 4\n",
            "La calificación 4.0 es válida.\n",
            "Ingresa una calificación del 0 al 5: 4\n",
            "La calificación 4.0 es válida.\n"
          ]
        }
      ]
    },
    {
      "cell_type": "code",
      "source": [
        "# 4 - Desarrolla un programa que lea un conjunto indefinido de temperaturas en grados Celsius y calcule su promedio. La lectura debe detenerse al ingresar el valor -273°C.\n",
        "temperatura = 0\n",
        "contador = 1\n",
        "suma = 0\n",
        "\n",
        "while temperatura > -273:\n",
        "  temperatura = float(input(\"Ingresa una temperatura en grados Celsius: \"))\n",
        "  suma = temperatura + suma\n",
        "  promedio = suma / contador\n",
        "  contador += 1\n",
        "  print(f'El promedio de las temperaturas ingresadas es: {promedio}')\n",
        "\n",
        "\n",
        "\n",
        "\n"
      ],
      "metadata": {
        "colab": {
          "base_uri": "https://localhost:8080/"
        },
        "id": "6PrmgrJHkmTG",
        "outputId": "2a2b5613-8900-44a0-839e-cde0b67784a9"
      },
      "execution_count": 15,
      "outputs": [
        {
          "output_type": "stream",
          "name": "stdout",
          "text": [
            "Ingresa una temperatura en grados Celsius: 8\n",
            "El promedio de las temperaturas ingresadas es: 8.0\n",
            "Ingresa una temperatura en grados Celsius: 2\n",
            "El promedio de las temperaturas ingresadas es: 5.0\n",
            "Ingresa una temperatura en grados Celsius: 15\n",
            "El promedio de las temperaturas ingresadas es: 8.333333333333334\n",
            "Ingresa una temperatura en grados Celsius: -273\n",
            "El promedio de las temperaturas ingresadas es: -62.0\n"
          ]
        }
      ]
    },
    {
      "cell_type": "code",
      "source": [
        "#Escribe un programa que calcule el factorial de un número entero proporcionado por el usuario. Recuerda que el factorial de un número entero es el producto de ese número por todos sus antecesores hasta llegar al número 1. Por ejemplo, el factorial de 5 es 5 x 4 x 3 x 2 x 1 = 120.\n",
        "\n",
        "factorial = int(input(\"Ingresa un número entero: \"))\n",
        "resultado = 1\n",
        "\n",
        "for i in range(1, factorial + 1):\n",
        "    resultado = resultado * i\n",
        "\n",
        "print(f'El factorial de {factorial} es: {resultado}')\n",
        "\n",
        "\n"
      ],
      "metadata": {
        "colab": {
          "base_uri": "https://localhost:8080/"
        },
        "id": "LJIsaNaPm3mM",
        "outputId": "7a727f03-a1de-4b55-84df-7cdf63c2b7bd"
      },
      "execution_count": 19,
      "outputs": [
        {
          "output_type": "stream",
          "name": "stdout",
          "text": [
            "Ingresa un número entero: 4\n",
            "El factorial de 4 es: 24\n"
          ]
        }
      ]
    },
    {
      "cell_type": "code",
      "source": [
        "###\n",
        "#Escribe un programa que genere la tabla de multiplicar de un número entero del 1 al 10, según la elección del usuario. Como ejemplo, para el número 2, la tabla de multiplicar debe mostrarse en el siguiente formato: Tabla de multiplicar del 2:\n",
        "#2 x 1 = 2\n",
        "#2 x 2 = 4\n",
        "#[...]\n",
        "#2 x 10 = 20\n",
        "\n",
        "tabla_multiplicar = int(input(\"Ingresa la tabla de multiplicar del 1 al 10 que quieras saber: \"))\n",
        "\n",
        "for i in range(1, 11):\n",
        "    print(f'{tabla_multiplicar} x {i} = {tabla_multiplicar * i}')\n",
        "\n",
        "\n"
      ],
      "metadata": {
        "colab": {
          "base_uri": "https://localhost:8080/"
        },
        "id": "k71lBj6rnVUC",
        "outputId": "981f5778-e42e-474e-a65a-8b1247921546"
      },
      "execution_count": 22,
      "outputs": [
        {
          "output_type": "stream",
          "name": "stdout",
          "text": [
            "Ingresa la tabla de multiplicar del 1 al 10 que quieras saber: 9\n",
            "9 x 1 = 9\n",
            "9 x 2 = 18\n",
            "9 x 3 = 27\n",
            "9 x 4 = 36\n",
            "9 x 5 = 45\n",
            "9 x 6 = 54\n",
            "9 x 7 = 63\n",
            "9 x 8 = 72\n",
            "9 x 9 = 81\n",
            "9 x 10 = 90\n"
          ]
        }
      ]
    },
    {
      "cell_type": "markdown",
      "source": [],
      "metadata": {
        "id": "KOzKMKdeoJHl"
      }
    },
    {
      "cell_type": "code",
      "source": [
        "#crea un programa que solicite un número entero y determine si es un número primo o no.\n",
        "\n",
        "numero = int(input(\"Ingresa un número entero para saber si es primo o no: \"))\n",
        "contador = 0\n",
        "\n",
        "for i in range(1, numero + 1):\n",
        "    if numero % i == 0:\n",
        "        contador += 1\n",
        "\n",
        "if contador == 2:\n",
        "    print(f'{numero} es un número primo.')\n",
        "\n",
        "else:\n",
        "    print(f'{numero} no es un número primo.')\n"
      ],
      "metadata": {
        "colab": {
          "base_uri": "https://localhost:8080/"
        },
        "id": "h8awxTfUoVcz",
        "outputId": "28acefb2-eab9-45c3-def4-8f142799fb86"
      },
      "execution_count": 29,
      "outputs": [
        {
          "output_type": "stream",
          "name": "stdout",
          "text": [
            "Ingresa un número entero para saber si es primo o no: 0\n",
            "0 no es un número primo.\n"
          ]
        }
      ]
    },
    {
      "cell_type": "code",
      "source": [
        "#Vamos a comprender la distribución de edades de los pensionistas de una empresa de seguros. Escribe un programa que lea las edades de una cantidad no informada de clientes y muestre la distribución en los intervalos [0-25], [26-50], [51-75] y [76-100]. La entrada de datos se detendrá al ingresar un número negativo.\n",
        "edad = 0\n",
        "interval0_25 = 0\n",
        "interval26_50 = 0\n",
        "interval51_75 = 0\n",
        "interval76_100 = 0\n",
        "\n",
        "while edad >= 0:\n",
        "    edad = int(input(\"Ingresa la edad del pensionista: \"))\n",
        "    if edad >= 0 and edad <= 25:\n",
        "       interval0_25 +=1\n",
        "    elif edad >= 26 and edad <= 50:\n",
        "       interval26_50 +=1\n",
        "    elif edad >= 51 and edad <= 75:\n",
        "       interval51_75 +=1\n",
        "    elif edad >= 76 and edad <= 100:\n",
        "       interval76_100 +=1\n",
        "\n",
        "    print(f'La distribución de edades de los pensionistas es: \\n[0-25]: {interval0_25} \\n[26-50]: {interval26_50} \\n[51-75]: {interval51_75} \\n[76-100]: {interval76_100}')\n",
        "\n",
        "\n",
        "\n"
      ],
      "metadata": {
        "colab": {
          "base_uri": "https://localhost:8080/",
          "height": 369
        },
        "id": "t_zjTlUtqAL0",
        "outputId": "c1940cd2-3c0b-49b7-99cf-88a100ae4efb"
      },
      "execution_count": 31,
      "outputs": [
        {
          "output_type": "error",
          "ename": "KeyboardInterrupt",
          "evalue": "Interrupted by user",
          "traceback": [
            "\u001b[0;31m---------------------------------------------------------------------------\u001b[0m",
            "\u001b[0;31mKeyboardInterrupt\u001b[0m                         Traceback (most recent call last)",
            "\u001b[0;32m<ipython-input-31-20b984f49126>\u001b[0m in \u001b[0;36m<cell line: 0>\u001b[0;34m()\u001b[0m\n\u001b[1;32m      7\u001b[0m \u001b[0;34m\u001b[0m\u001b[0m\n\u001b[1;32m      8\u001b[0m \u001b[0;32mwhile\u001b[0m \u001b[0medad\u001b[0m \u001b[0;34m>=\u001b[0m \u001b[0;36m0\u001b[0m\u001b[0;34m:\u001b[0m\u001b[0;34m\u001b[0m\u001b[0;34m\u001b[0m\u001b[0m\n\u001b[0;32m----> 9\u001b[0;31m     \u001b[0medad\u001b[0m \u001b[0;34m=\u001b[0m \u001b[0mint\u001b[0m\u001b[0;34m(\u001b[0m\u001b[0minput\u001b[0m\u001b[0;34m(\u001b[0m\u001b[0;34m\"Ingresa la edad del pensionista: \"\u001b[0m\u001b[0;34m)\u001b[0m\u001b[0;34m)\u001b[0m\u001b[0;34m\u001b[0m\u001b[0;34m\u001b[0m\u001b[0m\n\u001b[0m\u001b[1;32m     10\u001b[0m     \u001b[0;32mif\u001b[0m \u001b[0medad\u001b[0m \u001b[0;34m>=\u001b[0m \u001b[0;36m0\u001b[0m \u001b[0;32mand\u001b[0m \u001b[0medad\u001b[0m \u001b[0;34m<=\u001b[0m \u001b[0;36m25\u001b[0m\u001b[0;34m:\u001b[0m\u001b[0;34m\u001b[0m\u001b[0;34m\u001b[0m\u001b[0m\n\u001b[1;32m     11\u001b[0m        \u001b[0minterval0_25\u001b[0m \u001b[0;34m+=\u001b[0m\u001b[0;36m1\u001b[0m\u001b[0;34m\u001b[0m\u001b[0;34m\u001b[0m\u001b[0m\n",
            "\u001b[0;32m/usr/local/lib/python3.11/dist-packages/ipykernel/kernelbase.py\u001b[0m in \u001b[0;36mraw_input\u001b[0;34m(self, prompt)\u001b[0m\n\u001b[1;32m   1175\u001b[0m                 \u001b[0;34m\"raw_input was called, but this frontend does not support input requests.\"\u001b[0m\u001b[0;34m\u001b[0m\u001b[0;34m\u001b[0m\u001b[0m\n\u001b[1;32m   1176\u001b[0m             )\n\u001b[0;32m-> 1177\u001b[0;31m         return self._input_request(\n\u001b[0m\u001b[1;32m   1178\u001b[0m             \u001b[0mstr\u001b[0m\u001b[0;34m(\u001b[0m\u001b[0mprompt\u001b[0m\u001b[0;34m)\u001b[0m\u001b[0;34m,\u001b[0m\u001b[0;34m\u001b[0m\u001b[0;34m\u001b[0m\u001b[0m\n\u001b[1;32m   1179\u001b[0m             \u001b[0mself\u001b[0m\u001b[0;34m.\u001b[0m\u001b[0m_parent_ident\u001b[0m\u001b[0;34m[\u001b[0m\u001b[0;34m\"shell\"\u001b[0m\u001b[0;34m]\u001b[0m\u001b[0;34m,\u001b[0m\u001b[0;34m\u001b[0m\u001b[0;34m\u001b[0m\u001b[0m\n",
            "\u001b[0;32m/usr/local/lib/python3.11/dist-packages/ipykernel/kernelbase.py\u001b[0m in \u001b[0;36m_input_request\u001b[0;34m(self, prompt, ident, parent, password)\u001b[0m\n\u001b[1;32m   1217\u001b[0m             \u001b[0;32mexcept\u001b[0m \u001b[0mKeyboardInterrupt\u001b[0m\u001b[0;34m:\u001b[0m\u001b[0;34m\u001b[0m\u001b[0;34m\u001b[0m\u001b[0m\n\u001b[1;32m   1218\u001b[0m                 \u001b[0;31m# re-raise KeyboardInterrupt, to truncate traceback\u001b[0m\u001b[0;34m\u001b[0m\u001b[0;34m\u001b[0m\u001b[0m\n\u001b[0;32m-> 1219\u001b[0;31m                 \u001b[0;32mraise\u001b[0m \u001b[0mKeyboardInterrupt\u001b[0m\u001b[0;34m(\u001b[0m\u001b[0;34m\"Interrupted by user\"\u001b[0m\u001b[0;34m)\u001b[0m \u001b[0;32mfrom\u001b[0m \u001b[0;32mNone\u001b[0m\u001b[0;34m\u001b[0m\u001b[0;34m\u001b[0m\u001b[0m\n\u001b[0m\u001b[1;32m   1220\u001b[0m             \u001b[0;32mexcept\u001b[0m \u001b[0mException\u001b[0m\u001b[0;34m:\u001b[0m\u001b[0;34m\u001b[0m\u001b[0;34m\u001b[0m\u001b[0m\n\u001b[1;32m   1221\u001b[0m                 \u001b[0mself\u001b[0m\u001b[0;34m.\u001b[0m\u001b[0mlog\u001b[0m\u001b[0;34m.\u001b[0m\u001b[0mwarning\u001b[0m\u001b[0;34m(\u001b[0m\u001b[0;34m\"Invalid Message:\"\u001b[0m\u001b[0;34m,\u001b[0m \u001b[0mexc_info\u001b[0m\u001b[0;34m=\u001b[0m\u001b[0;32mTrue\u001b[0m\u001b[0;34m)\u001b[0m\u001b[0;34m\u001b[0m\u001b[0;34m\u001b[0m\u001b[0m\n",
            "\u001b[0;31mKeyboardInterrupt\u001b[0m: Interrupted by user"
          ]
        }
      ]
    },
    {
      "cell_type": "markdown",
      "source": [
        "9 - En una elección para la gerencia de una empresa con 20 empleados, hay cuatro candidatos. Escribe un programa que calcule al ganador de la elección. La votación se realizó de la siguiente manera:\n",
        "\n",
        "Cada empleado votó por uno de los cuatro candidatos (representados por los números 1, 2, 3 y 4).\n",
        "\n",
        "También se contaron los votos nulos (representados por el número 5) y los votos en blanco (representados por el número 6).\n",
        "\n",
        "Al final de la votación, el programa debe mostrar el número total de votos para cada candidato, los votos nulos y los votos en blanco. Además, debe calcular y mostrar el porcentaje de votos nulos con respecto al total de votos y el porcentaje de votos en blanco con respecto al total de votos."
      ],
      "metadata": {
        "id": "-qYEMP-vsOJo"
      }
    },
    {
      "cell_type": "code",
      "source": [
        "321# prompt: En una elección para la gerencia de una empresa con 20 empleados, hay cuatro candidatos. Escribe un programa que calcule al ganador de la elección. La votación se realizó de la siguiente manera:\n",
        "# Cada empleado votó por uno de los cuatro candidatos (representados por los números 1, 2, 3 y 4).\n",
        "# También se contaron los votos nulos (representados por el número 5) y los votos en blanco (representados por el número 6).\n",
        "# Al final de la votación, el programa debe mostrar el número total de votos para cada candidato, los votos nulos y los votos en blanco. Además, debe calcular y mostrar el porcentaje de votos nulos con respecto al total de votos y el porcentaje de votos en blanco con respecto al total de votos.\n",
        "\n",
        "votos_candidato1 = 0\n",
        "votos_candidato2 = 0\n",
        "votos_candidato3 = 0\n",
        "votos_candidato4 = 0\n",
        "votos_nulos = 0\n",
        "votos_blancos = 0\n",
        "\n",
        "for i in range(20):\n",
        "    voto = int(input(f\"Voto del empleado {i+1} (1-4 para candidato, 5 para nulo, 6 para blanco): \"))\n",
        "    if voto == 1:\n",
        "        votos_candidato1 += 1\n",
        "    elif voto == 2:\n",
        "        votos_candidato2 += 1\n",
        "    elif voto == 3:\n",
        "        votos_candidato3 += 1\n",
        "    elif voto == 4:\n",
        "        votos_candidato4 += 1\n",
        "    elif voto == 5:\n",
        "        votos_nulos += 1\n",
        "    elif voto == 6:\n",
        "        votos_blancos += 1\n",
        "    else:\n",
        "        print(\"Voto inválido. Intente de nuevo.\")\n",
        "        i -= 1  # Repetir el voto para este empleado\n",
        "\n",
        "total_votos = votos_candidato1 + votos_candidato2 + votos_candidato3 + votos_candidato4 + votos_nulos + votos_blancos\n",
        "\n",
        "print(\"\\nResultados de la elección:\")\n",
        "print(f\"Candidato 1: {votos_candidato1} votos\")\n",
        "print(f\"Candidato 2: {votos_candidato2} votos\")\n",
        "print(f\"Candidato 3: {votos_candidato3} votos\")\n",
        "print(f\"Candidato 4: {votos_candidato4} votos\")\n",
        "print(f\"Votos nulos: {votos_nulos} votos\")\n",
        "print(f\"Votos en blanco: {votos_blancos} votos\")\n",
        "\n",
        "porcentaje_nulos = (votos_nulos / total_votos) * 100\n",
        "porcentaje_blancos = (votos_blancos / total_votos) * 100\n",
        "\n",
        "print(f\"\\nPorcentaje de votos nulos: {porcentaje_nulos:.2f}%\")\n",
        "print(f\"Porcentaje de votos en blanco: {porcentaje_blancos:.2f}%\")\n",
        "\n",
        "# Determinar el ganador\n",
        "resultados = {\n",
        "    1: votos_candidato1,\n",
        "    2: votos_candidato2,\n",
        "    3: votos_candidato3,\n",
        "    4: votos_candidato4\n",
        "}\n",
        "ganador = max(resultados, key=resultados.get)\n",
        "print(f\"\\nEl candidato ganador es el número {ganador} con {resultados[ganador]} votos.\")\n"
      ],
      "metadata": {
        "id": "JnlkJTe6sRHv",
        "outputId": "a460e3de-4f9b-40f0-bb72-a0fa785b21b6",
        "colab": {
          "base_uri": "https://localhost:8080/"
        }
      },
      "execution_count": 34,
      "outputs": [
        {
          "output_type": "stream",
          "name": "stdout",
          "text": [
            "Voto del empleado 1 (1-4 para candidato, 5 para nulo, 6 para blanco): 4\n",
            "Voto del empleado 2 (1-4 para candidato, 5 para nulo, 6 para blanco): 1\n",
            "Voto del empleado 3 (1-4 para candidato, 5 para nulo, 6 para blanco): 4\n",
            "Voto del empleado 4 (1-4 para candidato, 5 para nulo, 6 para blanco): 2\n",
            "Voto del empleado 5 (1-4 para candidato, 5 para nulo, 6 para blanco): 5\n",
            "Voto del empleado 6 (1-4 para candidato, 5 para nulo, 6 para blanco): 6\n",
            "Voto del empleado 7 (1-4 para candidato, 5 para nulo, 6 para blanco): 3\n",
            "Voto del empleado 8 (1-4 para candidato, 5 para nulo, 6 para blanco): 2\n",
            "Voto del empleado 9 (1-4 para candidato, 5 para nulo, 6 para blanco): 1\n",
            "Voto del empleado 10 (1-4 para candidato, 5 para nulo, 6 para blanco): 4\n",
            "Voto del empleado 11 (1-4 para candidato, 5 para nulo, 6 para blanco): 5\n",
            "Voto del empleado 12 (1-4 para candidato, 5 para nulo, 6 para blanco): 2\n",
            "Voto del empleado 13 (1-4 para candidato, 5 para nulo, 6 para blanco): 1\n",
            "Voto del empleado 14 (1-4 para candidato, 5 para nulo, 6 para blanco): 2\n",
            "Voto del empleado 15 (1-4 para candidato, 5 para nulo, 6 para blanco): 3\n",
            "Voto del empleado 16 (1-4 para candidato, 5 para nulo, 6 para blanco): 4\n",
            "Voto del empleado 17 (1-4 para candidato, 5 para nulo, 6 para blanco): 4\n",
            "Voto del empleado 18 (1-4 para candidato, 5 para nulo, 6 para blanco): 4\n",
            "Voto del empleado 19 (1-4 para candidato, 5 para nulo, 6 para blanco): 4\n",
            "Voto del empleado 20 (1-4 para candidato, 5 para nulo, 6 para blanco): 4\n",
            "\n",
            "Resultados de la elección:\n",
            "Candidato 1: 3 votos\n",
            "Candidato 2: 4 votos\n",
            "Candidato 3: 2 votos\n",
            "Candidato 4: 8 votos\n",
            "Votos nulos: 2 votos\n",
            "Votos en blanco: 1 votos\n",
            "\n",
            "Porcentaje de votos nulos: 10.00%\n",
            "Porcentaje de votos en blanco: 5.00%\n",
            "\n",
            "El candidato ganador es el número 4 con 8 votos.\n"
          ]
        }
      ]
    }
  ]
}