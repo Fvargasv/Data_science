{
  "nbformat": 4,
  "nbformat_minor": 0,
  "metadata": {
    "colab": {
      "provenance": [],
      "authorship_tag": "ABX9TyNuXh5v7HC6K95miji1hJup",
      "include_colab_link": true
    },
    "kernelspec": {
      "name": "python3",
      "display_name": "Python 3"
    },
    "language_info": {
      "name": "python"
    }
  },
  "cells": [
    {
      "cell_type": "markdown",
      "metadata": {
        "id": "view-in-github",
        "colab_type": "text"
      },
      "source": [
        "<a href=\"https://colab.research.google.com/github/Fvargasv/Data_science/blob/main/cuaderno_practica.ipynb\" target=\"_parent\"><img src=\"https://colab.research.google.com/assets/colab-badge.svg\" alt=\"Open In Colab\"/></a>"
      ]
    },
    {
      "cell_type": "code",
      "execution_count": null,
      "metadata": {
        "id": "CLUiBLNfMM5M",
        "outputId": "36afcac2-6b7b-4fcc-931d-3306c94b074d",
        "colab": {
          "base_uri": "https://localhost:8080/"
        }
      },
      "outputs": [
        {
          "output_type": "stream",
          "name": "stdout",
          "text": [
            "Ingresa el primer número: 9\n",
            "Ingresa el segundo número: 14\n",
            "El número más grande es: 14.0\n"
          ]
        }
      ],
      "source": [
        "#1 - Escribe un programa que pida a la persona usuaria que proporcione dos números y muestre el número más grande.\n",
        "n1 = float(input(\"Ingresa el primer número: \"))\n",
        "n2 = float(input(\"Ingresa el segundo número: \"))\n",
        "if n1 > n2:\n",
        "    print(f'El número más grande es: {n1}')\n",
        "else:\n",
        "    print(f'El número más grande es: {n2}')"
      ]
    },
    {
      "cell_type": "code",
      "source": [
        "#Vamos a construir un ejemplo con un contador de 1 hasta 10 usando while\n",
        "\n",
        "contador = 1\n",
        "while contador <= 10:\n",
        "    print(contador)\n",
        "    contador += 1\n",
        "#Vamos a construir un ejemplo con un contador de 1 hasta 10 usando for\n",
        "\n",
        "for contador in range(1, 11):\n",
        "    print(contador)\n"
      ],
      "metadata": {
        "colab": {
          "base_uri": "https://localhost:8080/"
        },
        "id": "dixxkBJpadb4",
        "outputId": "b0f014af-97a8-4839-f979-1696d4668e92"
      },
      "execution_count": null,
      "outputs": [
        {
          "output_type": "stream",
          "name": "stdout",
          "text": [
            "1\n",
            "2\n",
            "3\n",
            "4\n",
            "5\n",
            "6\n",
            "7\n",
            "8\n",
            "9\n",
            "10\n",
            "1\n",
            "2\n",
            "3\n",
            "4\n",
            "5\n",
            "6\n",
            "7\n",
            "8\n",
            "9\n",
            "10\n"
          ]
        }
      ]
    },
    {
      "cell_type": "code",
      "source": [
        "for i in range(1, 6):\n",
        "    if i == 4:\n",
        "        break\n",
        "    print(i)"
      ],
      "metadata": {
        "colab": {
          "base_uri": "https://localhost:8080/"
        },
        "id": "TpY9r29ne_8h",
        "outputId": "b9775b8a-35e2-4683-ec85-7327002aefb7"
      },
      "execution_count": null,
      "outputs": [
        {
          "output_type": "stream",
          "name": "stdout",
          "text": [
            "1\n",
            "2\n",
            "3\n"
          ]
        }
      ]
    },
    {
      "cell_type": "code",
      "source": [
        "for i in range(1, 6):\n",
        "    if i == 4:\n",
        "        continue\n",
        "    print(i)"
      ],
      "metadata": {
        "colab": {
          "base_uri": "https://localhost:8080/"
        },
        "id": "RN09Wcs6fFKZ",
        "outputId": "7760bea6-db42-4d0b-b826-bf4c92b2079b"
      },
      "execution_count": null,
      "outputs": [
        {
          "output_type": "stream",
          "name": "stdout",
          "text": [
            "1\n",
            "2\n",
            "3\n",
            "5\n"
          ]
        }
      ]
    },
    {
      "cell_type": "code",
      "source": [
        "#Escribe un programa que solicite dos números enteros e imprima todos los números enteros entre ellos.\n",
        "n_1 = int(input(\"Ingresa el primer número: \"))\n",
        "n_2 = int(input(\"Ingresa el segundo número: \"))\n",
        "\n",
        "for i in range (n_1+1, n_2):\n",
        "    print(i)"
      ],
      "metadata": {
        "colab": {
          "base_uri": "https://localhost:8080/"
        },
        "id": "F8iSwqe5g4Lv",
        "outputId": "601e99fe-fed3-4905-f2f2-a4f52d093c17"
      },
      "execution_count": null,
      "outputs": [
        {
          "output_type": "stream",
          "name": "stdout",
          "text": [
            "Ingresa el primer número: 5\n",
            "Ingresa el segundo número: 11\n",
            "6\n",
            "7\n",
            "8\n",
            "9\n",
            "10\n"
          ]
        }
      ]
    },
    {
      "cell_type": "code",
      "source": [
        "#2 - Escribe un programa para calcular cuántos días tomará que la colonia de una bacteria A supere o iguale a la colonia de una bacteria B, basado en tasas de crecimiento del 3% y 1.5%, respectivamente. Supón que la colonia A comienza con 4 elementos y B con 10.\n",
        "contador = 1\n",
        "colonia_A = 4\n",
        "colonia_B = 10\n",
        "\n",
        "while colonia_A < colonia_B:\n",
        "    colonia_A = colonia_A * 1.03\n",
        "    colonia_B = colonia_B * 1.015\n",
        "    contador += 1\n",
        "\n",
        "print(f'Tomará {contador} días que la colonia A supere a la colonia B.')\n",
        "\n",
        "\n"
      ],
      "metadata": {
        "colab": {
          "base_uri": "https://localhost:8080/"
        },
        "id": "KAdMhMmQhi1E",
        "outputId": "d0c29294-80dd-43d1-dc4c-dcae6c419e92"
      },
      "execution_count": null,
      "outputs": [
        {
          "output_type": "stream",
          "name": "stdout",
          "text": [
            "Tomará 64 días que la colonia A supere a la colonia B.\n"
          ]
        }
      ]
    },
    {
      "cell_type": "code",
      "source": [
        "#Para procesar una cantidad de 15 datos de evaluaciones de usuarios de un servicio de la empresa, necesitamos verificar si las calificaciones son válidas. Por lo tanto, escribe un programa que recibirá calificaciones del 0 al 5 y verificará si son valores válidos. Si se ingresa una calificación superior a 5 o inferior a 0, se repetirá hasta que el usuario ingrese un valor válido.\n",
        "\n",
        "for n in range(15):\n",
        "    calificacion = float(input(\"Ingresa una calificación del 0 al 5: \"))\n",
        "    if calificacion >= 0 and calificacion <= 5:\n",
        "        print(f'La calificación {calificacion} es válida.')\n",
        "    else:\n",
        "        print(f'La calificación {calificacion} no es válida.')\n",
        "\n",
        "\n",
        "\n",
        "\n",
        "\n"
      ],
      "metadata": {
        "colab": {
          "base_uri": "https://localhost:8080/"
        },
        "id": "X71-4JW_iw6d",
        "outputId": "68fed24e-045c-4d7e-9c31-54e53e845677"
      },
      "execution_count": null,
      "outputs": [
        {
          "output_type": "stream",
          "name": "stdout",
          "text": [
            "Ingresa una calificación del 0 al 5: 9\n",
            "La calificación 9.0 no es válida.\n",
            "Ingresa una calificación del 0 al 5: -7\n",
            "La calificación -7.0 no es válida.\n",
            "Ingresa una calificación del 0 al 5: 4\n",
            "La calificación 4.0 es válida.\n",
            "Ingresa una calificación del 0 al 5: 4\n",
            "La calificación 4.0 es válida.\n",
            "Ingresa una calificación del 0 al 5: 4\n",
            "La calificación 4.0 es válida.\n",
            "Ingresa una calificación del 0 al 5: 4\n",
            "La calificación 4.0 es válida.\n",
            "Ingresa una calificación del 0 al 5: 4\n",
            "La calificación 4.0 es válida.\n",
            "Ingresa una calificación del 0 al 5: 4\n",
            "La calificación 4.0 es válida.\n",
            "Ingresa una calificación del 0 al 5: 4\n",
            "La calificación 4.0 es válida.\n",
            "Ingresa una calificación del 0 al 5: 4\n",
            "La calificación 4.0 es válida.\n",
            "Ingresa una calificación del 0 al 5: 4\n",
            "La calificación 4.0 es válida.\n",
            "Ingresa una calificación del 0 al 5: 4\n",
            "La calificación 4.0 es válida.\n",
            "Ingresa una calificación del 0 al 5: 4\n",
            "La calificación 4.0 es válida.\n",
            "Ingresa una calificación del 0 al 5: 4\n",
            "La calificación 4.0 es válida.\n",
            "Ingresa una calificación del 0 al 5: 4\n",
            "La calificación 4.0 es válida.\n"
          ]
        }
      ]
    },
    {
      "cell_type": "code",
      "source": [
        "# 4 - Desarrolla un programa que lea un conjunto indefinido de temperaturas en grados Celsius y calcule su promedio. La lectura debe detenerse al ingresar el valor -273°C.\n",
        "temperatura = 0\n",
        "contador = 1\n",
        "suma = 0\n",
        "\n",
        "while temperatura > -273:\n",
        "  temperatura = float(input(\"Ingresa una temperatura en grados Celsius: \"))\n",
        "  suma = temperatura + suma\n",
        "  promedio = suma / contador\n",
        "  contador += 1\n",
        "  print(f'El promedio de las temperaturas ingresadas es: {promedio}')\n",
        "\n",
        "\n",
        "\n",
        "\n"
      ],
      "metadata": {
        "colab": {
          "base_uri": "https://localhost:8080/"
        },
        "id": "6PrmgrJHkmTG",
        "outputId": "2a2b5613-8900-44a0-839e-cde0b67784a9"
      },
      "execution_count": null,
      "outputs": [
        {
          "output_type": "stream",
          "name": "stdout",
          "text": [
            "Ingresa una temperatura en grados Celsius: 8\n",
            "El promedio de las temperaturas ingresadas es: 8.0\n",
            "Ingresa una temperatura en grados Celsius: 2\n",
            "El promedio de las temperaturas ingresadas es: 5.0\n",
            "Ingresa una temperatura en grados Celsius: 15\n",
            "El promedio de las temperaturas ingresadas es: 8.333333333333334\n",
            "Ingresa una temperatura en grados Celsius: -273\n",
            "El promedio de las temperaturas ingresadas es: -62.0\n"
          ]
        }
      ]
    },
    {
      "cell_type": "code",
      "source": [
        "#Escribe un programa que calcule el factorial de un número entero proporcionado por el usuario. Recuerda que el factorial de un número entero es el producto de ese número por todos sus antecesores hasta llegar al número 1. Por ejemplo, el factorial de 5 es 5 x 4 x 3 x 2 x 1 = 120.\n",
        "\n",
        "factorial = int(input(\"Ingresa un número entero: \"))\n",
        "resultado = 1\n",
        "\n",
        "for i in range(1, factorial + 1):\n",
        "    resultado = resultado * i\n",
        "\n",
        "print(f'El factorial de {factorial} es: {resultado}')\n",
        "\n",
        "\n"
      ],
      "metadata": {
        "colab": {
          "base_uri": "https://localhost:8080/"
        },
        "id": "LJIsaNaPm3mM",
        "outputId": "7a727f03-a1de-4b55-84df-7cdf63c2b7bd"
      },
      "execution_count": null,
      "outputs": [
        {
          "output_type": "stream",
          "name": "stdout",
          "text": [
            "Ingresa un número entero: 4\n",
            "El factorial de 4 es: 24\n"
          ]
        }
      ]
    },
    {
      "cell_type": "code",
      "source": [
        "###\n",
        "#Escribe un programa que genere la tabla de multiplicar de un número entero del 1 al 10, según la elección del usuario. Como ejemplo, para el número 2, la tabla de multiplicar debe mostrarse en el siguiente formato: Tabla de multiplicar del 2:\n",
        "#2 x 1 = 2\n",
        "#2 x 2 = 4\n",
        "#[...]\n",
        "#2 x 10 = 20\n",
        "\n",
        "tabla_multiplicar = int(input(\"Ingresa la tabla de multiplicar del 1 al 10 que quieras saber: \"))\n",
        "\n",
        "for i in range(1, 11):\n",
        "    print(f'{tabla_multiplicar} x {i} = {tabla_multiplicar * i}')\n",
        "\n",
        "\n"
      ],
      "metadata": {
        "colab": {
          "base_uri": "https://localhost:8080/"
        },
        "id": "k71lBj6rnVUC",
        "outputId": "981f5778-e42e-474e-a65a-8b1247921546"
      },
      "execution_count": null,
      "outputs": [
        {
          "output_type": "stream",
          "name": "stdout",
          "text": [
            "Ingresa la tabla de multiplicar del 1 al 10 que quieras saber: 9\n",
            "9 x 1 = 9\n",
            "9 x 2 = 18\n",
            "9 x 3 = 27\n",
            "9 x 4 = 36\n",
            "9 x 5 = 45\n",
            "9 x 6 = 54\n",
            "9 x 7 = 63\n",
            "9 x 8 = 72\n",
            "9 x 9 = 81\n",
            "9 x 10 = 90\n"
          ]
        }
      ]
    },
    {
      "cell_type": "markdown",
      "source": [],
      "metadata": {
        "id": "KOzKMKdeoJHl"
      }
    },
    {
      "cell_type": "code",
      "source": [
        "#crea un programa que solicite un número entero y determine si es un número primo o no.\n",
        "\n",
        "numero = int(input(\"Ingresa un número entero para saber si es primo o no: \"))\n",
        "contador = 0\n",
        "\n",
        "for i in range(1, numero + 1):\n",
        "    if numero % i == 0:\n",
        "        contador += 1\n",
        "\n",
        "if contador == 2:\n",
        "    print(f'{numero} es un número primo.')\n",
        "\n",
        "else:\n",
        "    print(f'{numero} no es un número primo.')\n"
      ],
      "metadata": {
        "colab": {
          "base_uri": "https://localhost:8080/"
        },
        "id": "h8awxTfUoVcz",
        "outputId": "28acefb2-eab9-45c3-def4-8f142799fb86"
      },
      "execution_count": null,
      "outputs": [
        {
          "output_type": "stream",
          "name": "stdout",
          "text": [
            "Ingresa un número entero para saber si es primo o no: 0\n",
            "0 no es un número primo.\n"
          ]
        }
      ]
    },
    {
      "cell_type": "code",
      "source": [
        "#Vamos a comprender la distribución de edades de los pensionistas de una empresa de seguros. Escribe un programa que lea las edades de una cantidad no informada de clientes y muestre la distribución en los intervalos [0-25], [26-50], [51-75] y [76-100]. La entrada de datos se detendrá al ingresar un número negativo.\n",
        "edad = 0\n",
        "interval0_25 = 0\n",
        "interval26_50 = 0\n",
        "interval51_75 = 0\n",
        "interval76_100 = 0\n",
        "\n",
        "while edad >= 0:\n",
        "    edad = int(input(\"Ingresa la edad del pensionista: \"))\n",
        "    if edad >= 0 and edad <= 25:\n",
        "       interval0_25 +=1\n",
        "    elif edad >= 26 and edad <= 50:\n",
        "       interval26_50 +=1\n",
        "    elif edad >= 51 and edad <= 75:\n",
        "       interval51_75 +=1\n",
        "    elif edad >= 76 and edad <= 100:\n",
        "       interval76_100 +=1\n",
        "\n",
        "    print(f'La distribución de edades de los pensionistas es: \\n[0-25]: {interval0_25} \\n[26-50]: {interval26_50} \\n[51-75]: {interval51_75} \\n[76-100]: {interval76_100}')\n",
        "\n",
        "\n",
        "\n"
      ],
      "metadata": {
        "colab": {
          "base_uri": "https://localhost:8080/"
        },
        "id": "t_zjTlUtqAL0",
        "outputId": "9628638e-edb8-4ac8-af70-a04a70d53faa"
      },
      "execution_count": null,
      "outputs": [
        {
          "output_type": "stream",
          "name": "stdout",
          "text": [
            "Ingresa la edad del pensionista: 9\n",
            "La distribución de edades de los pensionistas es: \n",
            "[0-25]: 1 \n",
            "[26-50]: 0 \n",
            "[51-75]: 0 \n",
            "[76-100]: 0\n",
            "Ingresa la edad del pensionista: 44\n",
            "La distribución de edades de los pensionistas es: \n",
            "[0-25]: 1 \n",
            "[26-50]: 1 \n",
            "[51-75]: 0 \n",
            "[76-100]: 0\n",
            "Ingresa la edad del pensionista: 55\n",
            "La distribución de edades de los pensionistas es: \n",
            "[0-25]: 1 \n",
            "[26-50]: 1 \n",
            "[51-75]: 1 \n",
            "[76-100]: 0\n",
            "Ingresa la edad del pensionista: 11\n",
            "La distribución de edades de los pensionistas es: \n",
            "[0-25]: 2 \n",
            "[26-50]: 1 \n",
            "[51-75]: 1 \n",
            "[76-100]: 0\n",
            "Ingresa la edad del pensionista: 84\n",
            "La distribución de edades de los pensionistas es: \n",
            "[0-25]: 2 \n",
            "[26-50]: 1 \n",
            "[51-75]: 1 \n",
            "[76-100]: 1\n",
            "Ingresa la edad del pensionista: 254\n",
            "La distribución de edades de los pensionistas es: \n",
            "[0-25]: 2 \n",
            "[26-50]: 1 \n",
            "[51-75]: 1 \n",
            "[76-100]: 1\n",
            "Ingresa la edad del pensionista: 58\n",
            "La distribución de edades de los pensionistas es: \n",
            "[0-25]: 2 \n",
            "[26-50]: 1 \n",
            "[51-75]: 2 \n",
            "[76-100]: 1\n",
            "Ingresa la edad del pensionista: 47\n",
            "La distribución de edades de los pensionistas es: \n",
            "[0-25]: 2 \n",
            "[26-50]: 2 \n",
            "[51-75]: 2 \n",
            "[76-100]: 1\n",
            "Ingresa la edad del pensionista: 99\n",
            "La distribución de edades de los pensionistas es: \n",
            "[0-25]: 2 \n",
            "[26-50]: 2 \n",
            "[51-75]: 2 \n",
            "[76-100]: 2\n",
            "Ingresa la edad del pensionista: 45\n",
            "La distribución de edades de los pensionistas es: \n",
            "[0-25]: 2 \n",
            "[26-50]: 3 \n",
            "[51-75]: 2 \n",
            "[76-100]: 2\n",
            "Ingresa la edad del pensionista: -7\n",
            "La distribución de edades de los pensionistas es: \n",
            "[0-25]: 2 \n",
            "[26-50]: 3 \n",
            "[51-75]: 2 \n",
            "[76-100]: 2\n"
          ]
        }
      ]
    },
    {
      "cell_type": "markdown",
      "source": [
        "9 - En una elección para la gerencia de una empresa con 20 empleados, hay cuatro candidatos. Escribe un programa que calcule al ganador de la elección. La votación se realizó de la siguiente manera:\n",
        "\n",
        "Cada empleado votó por uno de los cuatro candidatos (representados por los números 1, 2, 3 y 4).\n",
        "\n",
        "También se contaron los votos nulos (representados por el número 5) y los votos en blanco (representados por el número 6).\n",
        "\n",
        "Al final de la votación, el programa debe mostrar el número total de votos para cada candidato, los votos nulos y los votos en blanco. Además, debe calcular y mostrar el porcentaje de votos nulos con respecto al total de votos y el porcentaje de votos en blanco con respecto al total de votos."
      ],
      "metadata": {
        "id": "-qYEMP-vsOJo"
      }
    },
    {
      "cell_type": "code",
      "source": [
        "321# prompt: En una elección para la gerencia de una empresa con 20 empleados, hay cuatro candidatos. Escribe un programa que calcule al ganador de la elección. La votación se realizó de la siguiente manera:\n",
        "# Cada empleado votó por uno de los cuatro candidatos (representados por los números 1, 2, 3 y 4).\n",
        "# También se contaron los votos nulos (representados por el número 5) y los votos en blanco (representados por el número 6).\n",
        "# Al final de la votación, el programa debe mostrar el número total de votos para cada candidato, los votos nulos y los votos en blanco. Además, debe calcular y mostrar el porcentaje de votos nulos con respecto al total de votos y el porcentaje de votos en blanco con respecto al total de votos.\n",
        "\n",
        "votos_candidato1 = 0\n",
        "votos_candidato2 = 0\n",
        "votos_candidato3 = 0\n",
        "votos_candidato4 = 0\n",
        "votos_nulos = 0\n",
        "votos_blancos = 0\n",
        "\n",
        "for i in range(20):\n",
        "    voto = int(input(f\"Voto del empleado {i+1} (1-4 para candidato, 5 para nulo, 6 para blanco): \"))\n",
        "    if voto == 1:\n",
        "        votos_candidato1 += 1\n",
        "    elif voto == 2:\n",
        "        votos_candidato2 += 1\n",
        "    elif voto == 3:\n",
        "        votos_candidato3 += 1\n",
        "    elif voto == 4:\n",
        "        votos_candidato4 += 1\n",
        "    elif voto == 5:\n",
        "        votos_nulos += 1\n",
        "    elif voto == 6:\n",
        "        votos_blancos += 1\n",
        "    else:\n",
        "        print(\"Voto inválido. Intente de nuevo.\")\n",
        "        i -= 1  # Repetir el voto para este empleado\n",
        "\n",
        "total_votos = votos_candidato1 + votos_candidato2 + votos_candidato3 + votos_candidato4 + votos_nulos + votos_blancos\n",
        "\n",
        "print(\"\\nResultados de la elección:\")\n",
        "print(f\"Candidato 1: {votos_candidato1} votos\")\n",
        "print(f\"Candidato 2: {votos_candidato2} votos\")\n",
        "print(f\"Candidato 3: {votos_candidato3} votos\")\n",
        "print(f\"Candidato 4: {votos_candidato4} votos\")\n",
        "print(f\"Votos nulos: {votos_nulos} votos\")\n",
        "print(f\"Votos en blanco: {votos_blancos} votos\")\n",
        "\n",
        "porcentaje_nulos = (votos_nulos / total_votos) * 100\n",
        "porcentaje_blancos = (votos_blancos / total_votos) * 100\n",
        "\n",
        "print(f\"\\nPorcentaje de votos nulos: {porcentaje_nulos:.2f}%\")\n",
        "print(f\"Porcentaje de votos en blanco: {porcentaje_blancos:.2f}%\")\n",
        "\n",
        "# Determinar el ganador\n",
        "resultados = {\n",
        "    1: votos_candidato1,\n",
        "    2: votos_candidato2,\n",
        "    3: votos_candidato3,\n",
        "    4: votos_candidato4\n",
        "}\n",
        "ganador = max(resultados, key=resultados.get)\n",
        "print(f\"\\nEl candidato ganador es el número {ganador} con {resultados[ganador]} votos.\")\n"
      ],
      "metadata": {
        "colab": {
          "base_uri": "https://localhost:8080/"
        },
        "id": "JnlkJTe6sRHv",
        "outputId": "a460e3de-4f9b-40f0-bb72-a0fa785b21b6"
      },
      "execution_count": null,
      "outputs": [
        {
          "output_type": "stream",
          "name": "stdout",
          "text": [
            "Voto del empleado 1 (1-4 para candidato, 5 para nulo, 6 para blanco): 4\n",
            "Voto del empleado 2 (1-4 para candidato, 5 para nulo, 6 para blanco): 1\n",
            "Voto del empleado 3 (1-4 para candidato, 5 para nulo, 6 para blanco): 4\n",
            "Voto del empleado 4 (1-4 para candidato, 5 para nulo, 6 para blanco): 2\n",
            "Voto del empleado 5 (1-4 para candidato, 5 para nulo, 6 para blanco): 5\n",
            "Voto del empleado 6 (1-4 para candidato, 5 para nulo, 6 para blanco): 6\n",
            "Voto del empleado 7 (1-4 para candidato, 5 para nulo, 6 para blanco): 3\n",
            "Voto del empleado 8 (1-4 para candidato, 5 para nulo, 6 para blanco): 2\n",
            "Voto del empleado 9 (1-4 para candidato, 5 para nulo, 6 para blanco): 1\n",
            "Voto del empleado 10 (1-4 para candidato, 5 para nulo, 6 para blanco): 4\n",
            "Voto del empleado 11 (1-4 para candidato, 5 para nulo, 6 para blanco): 5\n",
            "Voto del empleado 12 (1-4 para candidato, 5 para nulo, 6 para blanco): 2\n",
            "Voto del empleado 13 (1-4 para candidato, 5 para nulo, 6 para blanco): 1\n",
            "Voto del empleado 14 (1-4 para candidato, 5 para nulo, 6 para blanco): 2\n",
            "Voto del empleado 15 (1-4 para candidato, 5 para nulo, 6 para blanco): 3\n",
            "Voto del empleado 16 (1-4 para candidato, 5 para nulo, 6 para blanco): 4\n",
            "Voto del empleado 17 (1-4 para candidato, 5 para nulo, 6 para blanco): 4\n",
            "Voto del empleado 18 (1-4 para candidato, 5 para nulo, 6 para blanco): 4\n",
            "Voto del empleado 19 (1-4 para candidato, 5 para nulo, 6 para blanco): 4\n",
            "Voto del empleado 20 (1-4 para candidato, 5 para nulo, 6 para blanco): 4\n",
            "\n",
            "Resultados de la elección:\n",
            "Candidato 1: 3 votos\n",
            "Candidato 2: 4 votos\n",
            "Candidato 3: 2 votos\n",
            "Candidato 4: 8 votos\n",
            "Votos nulos: 2 votos\n",
            "Votos en blanco: 1 votos\n",
            "\n",
            "Porcentaje de votos nulos: 10.00%\n",
            "Porcentaje de votos en blanco: 5.00%\n",
            "\n",
            "El candidato ganador es el número 4 con 8 votos.\n"
          ]
        }
      ]
    },
    {
      "cell_type": "code",
      "source": [
        "# para convertir uin string en una lista de strings usando un delimitador\n",
        "pregunta = '¿Quién vino primero? ¿El huevo? ¿O fue la serpiente?'\n",
        "lista_palabras = pregunta.split('?')\n",
        "print(lista_palabras)"
      ],
      "metadata": {
        "colab": {
          "base_uri": "https://localhost:8080/"
        },
        "id": "SLY7j5YNRieq",
        "outputId": "35205642-13a8-4238-8bae-b83bd6579839"
      },
      "execution_count": null,
      "outputs": [
        {
          "output_type": "stream",
          "name": "stdout",
          "text": [
            "['¿Quién vino primero', ' ¿El huevo', ' ¿O fue la serpiente', '']\n"
          ]
        }
      ]
    },
    {
      "cell_type": "code",
      "source": [
        "#El delimitador no aparece en la separación. Si no se define un delimitador, la cadena se separará por todos los espacios en blanco en el texto.\n",
        "pregunta = '¿Quién vino primero? ¿El huevo? ¿O fue la serpiente?'\n",
        "lista_palabras = pregunta.split()\n",
        "print(lista_palabras)"
      ],
      "metadata": {
        "colab": {
          "base_uri": "https://localhost:8080/"
        },
        "id": "mwaJ1QuFUZf5",
        "outputId": "dcc7f3d4-2b72-4340-c9ea-2fdd2627af0a"
      },
      "execution_count": null,
      "outputs": [
        {
          "output_type": "stream",
          "name": "stdout",
          "text": [
            "['¿Quién', 'vino', 'primero?', '¿El', 'huevo?', '¿O', 'fue', 'la', 'serpiente?']\n"
          ]
        }
      ]
    },
    {
      "cell_type": "code",
      "source": [
        "#Lo contrario también es posible, ya que podemos convertir una lista en una cadena mediante el método join(). Para usar esta función, debemos definir el carácter que se utilizará para unir los elementos de la lista y formar la cadena\n",
        "mezclas = ['Pinturas: rojo, azul y amarillo',\n",
        "            'Verde: mezcla de azul y amarillo',\n",
        "            'Naranja: mezcla de rojo y amarillo',\n",
        "            'Morado: mezcla de rojo y azul']\n",
        "unificador = '. '\n",
        "cadena_mezclas = unificador.join(mezclas)\n",
        "print(cadena_mezclas)"
      ],
      "metadata": {
        "colab": {
          "base_uri": "https://localhost:8080/"
        },
        "id": "JW0-Zdz8UZZk",
        "outputId": "f196d8b2-8b2f-4692-f6c7-e4a468adc0cf"
      },
      "execution_count": null,
      "outputs": [
        {
          "output_type": "stream",
          "name": "stdout",
          "text": [
            "Pinturas: rojo, azul y amarillo. Verde: mezcla de azul y amarillo. Naranja: mezcla de rojo y amarillo. Morado: mezcla de rojo y azul\n"
          ]
        }
      ]
    },
    {
      "cell_type": "code",
      "source": [
        "#otras manipulaciones para las listas\n",
        "\n",
        "razas_de_perros = ['Labrador Retriever',\n",
        "                   'Bulldog Francés',\n",
        "                   'Pastor Alemán',\n",
        "                   'Poodle']\n",
        "razas_de_perros\n"
      ],
      "metadata": {
        "colab": {
          "base_uri": "https://localhost:8080/"
        },
        "id": "ocf1frmbZwfE",
        "outputId": "620343d5-ab4e-4c2d-bf7a-fc6abd0581d6"
      },
      "execution_count": null,
      "outputs": [
        {
          "output_type": "execute_result",
          "data": {
            "text/plain": [
              "['Labrador Retriever', 'Bulldog Francés', 'Pastor Alemán', 'Poodle']"
            ]
          },
          "metadata": {},
          "execution_count": 11
        }
      ]
    },
    {
      "cell_type": "code",
      "source": [
        "#insert(), que permite insertar un elemento en una posición específica de la lista. La sintaxis es lista.insert(indice, elemento)\n",
        "\n",
        "razas_de_perros.insert(2, 'Golden Retriever')\n",
        "razas_de_perros"
      ],
      "metadata": {
        "colab": {
          "base_uri": "https://localhost:8080/"
        },
        "id": "ww-Ff_JPZ5v2",
        "outputId": "48bca8d6-5815-41b7-81c1-b5b30f7edda5"
      },
      "execution_count": null,
      "outputs": [
        {
          "output_type": "execute_result",
          "data": {
            "text/plain": [
              "['Labrador Retriever',\n",
              " 'Bulldog Francés',\n",
              " 'Golden Retriever',\n",
              " 'Pastor Alemán',\n",
              " 'Poodle']"
            ]
          },
          "metadata": {},
          "execution_count": 12
        }
      ]
    },
    {
      "cell_type": "code",
      "source": [
        "#El método pop() elimina el elemento en una posición específica de la lista y lo devuelve como salida al ejecutar el método\n",
        "razas_de_perros.pop(2)\n"
      ],
      "metadata": {
        "colab": {
          "base_uri": "https://localhost:8080/",
          "height": 36
        },
        "id": "qAg_-c0daVeu",
        "outputId": "edd2db64-7624-4af8-edcf-78ecb9e3f6f0"
      },
      "execution_count": null,
      "outputs": [
        {
          "output_type": "execute_result",
          "data": {
            "text/plain": [
              "'Golden Retriever'"
            ],
            "application/vnd.google.colaboratory.intrinsic+json": {
              "type": "string"
            }
          },
          "metadata": {},
          "execution_count": 13
        }
      ]
    },
    {
      "cell_type": "code",
      "source": [
        "razas_de_perros"
      ],
      "metadata": {
        "colab": {
          "base_uri": "https://localhost:8080/"
        },
        "id": "TW29Y-ZQapV1",
        "outputId": "aff7c7e1-62ce-416e-9454-0055c907af02"
      },
      "execution_count": null,
      "outputs": [
        {
          "output_type": "execute_result",
          "data": {
            "text/plain": [
              "['Labrador Retriever', 'Bulldog Francés', 'Pastor Alemán', 'Poodle']"
            ]
          },
          "metadata": {},
          "execution_count": 14
        }
      ]
    },
    {
      "cell_type": "code",
      "source": [
        "#El método index() devuelve el índice de un elemento específico en la lista. Para hacerlo, especificamos el elemento entre paréntesis.\n",
        "razas_de_perros.index('Pastor Alemán')"
      ],
      "metadata": {
        "colab": {
          "base_uri": "https://localhost:8080/"
        },
        "id": "YnpQAjKAavV5",
        "outputId": "f56c6d2f-6839-49d8-9d83-5e4ab81529c6"
      },
      "execution_count": null,
      "outputs": [
        {
          "output_type": "execute_result",
          "data": {
            "text/plain": [
              "2"
            ]
          },
          "metadata": {},
          "execution_count": 16
        }
      ]
    },
    {
      "cell_type": "code",
      "source": [
        "#El método sort() ordena los elementos de la lista en orden ascendente o descendente. Si son palabras, el orden se basa en el orden alfabético o en el orden inverso.\n",
        "razas_de_perros.sort()\n",
        "razas_de_perros\n"
      ],
      "metadata": {
        "colab": {
          "base_uri": "https://localhost:8080/"
        },
        "id": "Kiz8WPf5a8Ka",
        "outputId": "a5a3a7ca-ffdb-4ac4-ed2f-46f82794c4c4"
      },
      "execution_count": null,
      "outputs": [
        {
          "output_type": "execute_result",
          "data": {
            "text/plain": [
              "['Bulldog Francés', 'Labrador Retriever', 'Pastor Alemán', 'Poodle']"
            ]
          },
          "metadata": {},
          "execution_count": 17
        }
      ]
    },
    {
      "cell_type": "markdown",
      "source": [],
      "metadata": {
        "id": "FzWFKW72bP7E"
      }
    },
    {
      "cell_type": "code",
      "source": [
        "razas_de_perros.sort(reverse=True)\n",
        "razas_de_perros"
      ],
      "metadata": {
        "colab": {
          "base_uri": "https://localhost:8080/"
        },
        "id": "tD6yzBTbbR5u",
        "outputId": "0a3e8dbe-0bec-4f6b-f81c-a961fecff289"
      },
      "execution_count": null,
      "outputs": [
        {
          "output_type": "execute_result",
          "data": {
            "text/plain": [
              "['Poodle', 'Pastor Alemán', 'Labrador Retriever', 'Bulldog Francés']"
            ]
          },
          "metadata": {},
          "execution_count": 18
        }
      ]
    },
    {
      "cell_type": "code",
      "source": [
        "#las listas pueden ser almacenadas en los valores de un diccionario de tal manera que cada clave puede tener una lista asociada a ella\n",
        "\n",
        "tienda = {'nombres': ['televisión', 'celular', 'notebook', 'geladeira', 'estufa'],\n",
        "          'precios': [2000, 1500, 3500, 4000, 1500]}\n",
        "\n",
        "tienda"
      ],
      "metadata": {
        "colab": {
          "base_uri": "https://localhost:8080/"
        },
        "id": "P7ybEHXagXJ4",
        "outputId": "e342c47c-bf59-4ff6-828b-abf844b33b67"
      },
      "execution_count": null,
      "outputs": [
        {
          "output_type": "execute_result",
          "data": {
            "text/plain": [
              "{'nombres': ['televisión', 'celular', 'notebook', 'geladeira', 'estufa'],\n",
              " 'precios': [2000, 1500, 3500, 4000, 1500]}"
            ]
          },
          "metadata": {},
          "execution_count": 19
        }
      ]
    },
    {
      "cell_type": "code",
      "source": [
        "for clave, elementos in tienda.items():\n",
        "  print(f'Clave: {clave}\\nElementos:')\n",
        "  for dato in elementos:\n",
        "    print(dato)"
      ],
      "metadata": {
        "colab": {
          "base_uri": "https://localhost:8080/"
        },
        "id": "r2fz3gcPgpSE",
        "outputId": "a02aeab5-b310-42dd-b356-aa97865f7b69"
      },
      "execution_count": null,
      "outputs": [
        {
          "output_type": "stream",
          "name": "stdout",
          "text": [
            "Clave: nombres\n",
            "Elementos:\n",
            "televisión\n",
            "celular\n",
            "notebook\n",
            "geladeira\n",
            "estufa\n",
            "Clave: precios\n",
            "Elementos:\n",
            "2000\n",
            "1500\n",
            "3500\n",
            "4000\n",
            "1500\n"
          ]
        }
      ]
    },
    {
      "cell_type": "code",
      "source": [
        "for clave, elementos in tienda.items():\n",
        "  print(f'Clave: {clave}\\nElementos: {elementos}')\n"
      ],
      "metadata": {
        "colab": {
          "base_uri": "https://localhost:8080/"
        },
        "id": "1RmM3U2fg9m5",
        "outputId": "850f6908-9adb-494e-c416-2a7f631f7406"
      },
      "execution_count": null,
      "outputs": [
        {
          "output_type": "stream",
          "name": "stdout",
          "text": [
            "Clave: nombres\n",
            "Elementos: ['televisión', 'celular', 'notebook', 'geladeira', 'estufa']\n",
            "Clave: precios\n",
            "Elementos: [2000, 1500, 3500, 4000, 1500]\n"
          ]
        }
      ]
    },
    {
      "cell_type": "code",
      "source": [
        "#Para saber más: funciones incorporadas\n",
        "\n",
        "#Sum La función sum() permite sumar los elementos de una secuencia o estructura de datos. En el siguiente ejemplo, vamos a sumar los precios de productos:\n",
        "precios = [100.0, 400.0, 200.0]\n",
        "suma = sum(precios)\n",
        "suma\n"
      ],
      "metadata": {
        "id": "-i5c00VshXwd",
        "outputId": "ef5717f5-4cae-42f4-ebb9-f1de54ee0eaa",
        "colab": {
          "base_uri": "https://localhost:8080/"
        }
      },
      "execution_count": null,
      "outputs": [
        {
          "output_type": "execute_result",
          "data": {
            "text/plain": [
              "700.0"
            ]
          },
          "metadata": {},
          "execution_count": 23
        }
      ]
    },
    {
      "cell_type": "code",
      "source": [
        "# help() se utiliza para acceder a la documentación de funciones, métodos y otros elementos de Python\n",
        "\n",
        "help(print)"
      ],
      "metadata": {
        "id": "z0IrYZ6zh2KE",
        "outputId": "6def8803-8a8a-4209-87a9-27a520f19b45",
        "colab": {
          "base_uri": "https://localhost:8080/"
        }
      },
      "execution_count": null,
      "outputs": [
        {
          "output_type": "stream",
          "name": "stdout",
          "text": [
            "Help on built-in function print in module builtins:\n",
            "\n",
            "print(*args, sep=' ', end='\\n', file=None, flush=False)\n",
            "    Prints the values to a stream, or to sys.stdout by default.\n",
            "    \n",
            "    sep\n",
            "      string inserted between values, default a space.\n",
            "    end\n",
            "      string appended after the last value, default a newline.\n",
            "    file\n",
            "      a file-like object (stream); defaults to the current sys.stdout.\n",
            "    flush\n",
            "      whether to forcibly flush the stream.\n",
            "\n"
          ]
        }
      ]
    },
    {
      "cell_type": "code",
      "source": [
        "# dir() se utiliza para mostrar una lista de atributos y métodos asociados a un elemento\n",
        "lista = [1,2,3]\n",
        "dir(lista)"
      ],
      "metadata": {
        "id": "Zbu67EReiHTN",
        "outputId": "e987775d-95b3-41bc-e1a9-6197e5fe4fb1",
        "colab": {
          "base_uri": "https://localhost:8080/"
        }
      },
      "execution_count": null,
      "outputs": [
        {
          "output_type": "execute_result",
          "data": {
            "text/plain": [
              "['__add__',\n",
              " '__class__',\n",
              " '__class_getitem__',\n",
              " '__contains__',\n",
              " '__delattr__',\n",
              " '__delitem__',\n",
              " '__dir__',\n",
              " '__doc__',\n",
              " '__eq__',\n",
              " '__format__',\n",
              " '__ge__',\n",
              " '__getattribute__',\n",
              " '__getitem__',\n",
              " '__getstate__',\n",
              " '__gt__',\n",
              " '__hash__',\n",
              " '__iadd__',\n",
              " '__imul__',\n",
              " '__init__',\n",
              " '__init_subclass__',\n",
              " '__iter__',\n",
              " '__le__',\n",
              " '__len__',\n",
              " '__lt__',\n",
              " '__mul__',\n",
              " '__ne__',\n",
              " '__new__',\n",
              " '__reduce__',\n",
              " '__reduce_ex__',\n",
              " '__repr__',\n",
              " '__reversed__',\n",
              " '__rmul__',\n",
              " '__setattr__',\n",
              " '__setitem__',\n",
              " '__sizeof__',\n",
              " '__str__',\n",
              " '__subclasshook__',\n",
              " 'append',\n",
              " 'clear',\n",
              " 'copy',\n",
              " 'count',\n",
              " 'extend',\n",
              " 'index',\n",
              " 'insert',\n",
              " 'pop',\n",
              " 'remove',\n",
              " 'reverse',\n",
              " 'sort']"
            ]
          },
          "metadata": {},
          "execution_count": 25
        }
      ]
    },
    {
      "cell_type": "code",
      "source": [
        "# Crea un programa que tenga la siguiente lista con los gastos de una empresa de papel\n",
        "# [2172.54, 3701.35, 3518.09, 3456.61, 3249.38, 2840.82, 3891.45, 3075.26, 2317.64, 3219.08].\n",
        "# Con estos valores, crea un programa que calcule el promedio de gastos. Sugerencia: usa las funciones integradas sum() y len().\n",
        "\n",
        "gastos = [2172.54, 3701.35, 3518.09, 3456.61, 3249.38, 2840.82, 3891.45, 3075.26, 2317.64, 3219.08]\n",
        "promedio = sum(gastos)/len(gastos)\n",
        "print(f'El promedio de gastos es: {promedio}')"
      ],
      "metadata": {
        "id": "1mga8FEzjBtz",
        "outputId": "3aa68bcc-5f68-4b9d-cf35-34acb2226d31",
        "colab": {
          "base_uri": "https://localhost:8080/"
        }
      },
      "execution_count": null,
      "outputs": [
        {
          "output_type": "stream",
          "name": "stdout",
          "text": [
            "El promedio de gastos es: 3144.222\n"
          ]
        }
      ]
    },
    {
      "cell_type": "code",
      "source": [
        " #Con los mismos datos de la pregunta anterior, determina cuántas compras se realizaron\n",
        " #por encima de 3000 reales y calcula el porcentaje con respecto al total de compras.\n",
        "contador = 0\n",
        " for i in gastos:\n",
        "    if i >3000:\n",
        "      contador+=1\n",
        "porcentaje = (contador/len(gastos))*100\n",
        "print(f'El porcentaje de compras por encima de 3000 reales es: {porcentaje}%')"
      ],
      "metadata": {
        "id": "upR-uCcqjgnZ",
        "outputId": "7c57e2e0-63fa-4b88-e994-06904e75b5e1",
        "colab": {
          "base_uri": "https://localhost:8080/"
        }
      },
      "execution_count": null,
      "outputs": [
        {
          "output_type": "stream",
          "name": "stdout",
          "text": [
            "El porcentaje de compras por encima de 3000 reales es: 70.0%\n"
          ]
        }
      ]
    },
    {
      "cell_type": "code",
      "source": [
        "#Crea un código que recoja en una lista 5 números enteros aleatorios e imprima la lista. Ejemplo: [1, 4, 7, 2, 4]\n",
        "import random\n",
        "lista_n = []\n",
        "for i in range(5):\n",
        "    lista_n.append(random.randint(1,100))\n",
        "print(lista_n)\n",
        "\n"
      ],
      "metadata": {
        "id": "FkYpwCbhkUDG",
        "outputId": "c67b0f1a-e0d4-428f-c3ce-c3fdf9ed2b4a",
        "colab": {
          "base_uri": "https://localhost:8080/"
        }
      },
      "execution_count": null,
      "outputs": [
        {
          "output_type": "stream",
          "name": "stdout",
          "text": [
            "[39, 88, 75, 4, 91]\n"
          ]
        }
      ]
    },
    {
      "cell_type": "code",
      "source": [
        "#Recoge nuevamente 5 números enteros e imprime la lista en orden inverso al enviado.\n",
        "lista_n.reverse()\n",
        "print(lista_n)\n"
      ],
      "metadata": {
        "id": "Xb3AV0wplEWc",
        "outputId": "48f4850a-cfea-41b3-cb68-a0c428189003",
        "colab": {
          "base_uri": "https://localhost:8080/"
        }
      },
      "execution_count": null,
      "outputs": [
        {
          "output_type": "stream",
          "name": "stdout",
          "text": [
            "[91, 4, 75, 88, 39]\n"
          ]
        }
      ]
    },
    {
      "cell_type": "code",
      "source": [
        "#- Crea un programa que, al ingresar un número cualquiera, genere una lista que contenga\n",
        "# todos los números primos entre 1 y el número ingresado.\n",
        "\n",
        "num1 = int(input(\"Ingresa un número: \"))\n",
        "lista_primos = []\n",
        "\n",
        "for i in range(1, num1 + 1):\n",
        "    contador = 0\n",
        "    for j in range(1, i + 1):\n",
        "        if i % j == 0:\n",
        "            contador += 1\n",
        "    if contador == 2:\n",
        "        lista_primos.append(i)\n",
        "\n",
        "print(lista_primos)"
      ],
      "metadata": {
        "id": "NNoevvswmoI4",
        "outputId": "5a6f0816-6ab3-45da-d106-556ff1c78fdd",
        "colab": {
          "base_uri": "https://localhost:8080/"
        }
      },
      "execution_count": null,
      "outputs": [
        {
          "output_type": "stream",
          "name": "stdout",
          "text": [
            "Ingresa un número: 100\n",
            "[2, 3, 5, 7, 11, 13, 17, 19, 23, 29, 31, 37, 41, 43, 47, 53, 59, 61, 67, 71, 73, 79, 83, 89, 97]\n"
          ]
        }
      ]
    },
    {
      "cell_type": "code",
      "source": [
        "#6 - Escribe un programa que pida una fecha, especificando el día, mes y año, y determine si es válida para su análisis.\n",
        "\n",
        "fecha ="
      ],
      "metadata": {
        "id": "TvvDc5KIp_jW"
      },
      "execution_count": null,
      "outputs": []
    },
    {
      "cell_type": "code",
      "source": [],
      "metadata": {
        "id": "aWE1uOsv0YWL"
      },
      "execution_count": null,
      "outputs": []
    }
  ]
}