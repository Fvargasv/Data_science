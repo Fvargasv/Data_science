{
  "nbformat": 4,
  "nbformat_minor": 0,
  "metadata": {
    "colab": {
      "provenance": [],
      "authorship_tag": "ABX9TyOFRvCpMbt0+GfELb3Yv+ay",
      "include_colab_link": true
    },
    "kernelspec": {
      "name": "python3",
      "display_name": "Python 3"
    },
    "language_info": {
      "name": "python"
    }
  },
  "cells": [
    {
      "cell_type": "markdown",
      "metadata": {
        "id": "view-in-github",
        "colab_type": "text"
      },
      "source": [
        "<a href=\"https://colab.research.google.com/github/Fvargasv/Data_science/blob/main/cuaderno_practica.ipynb\" target=\"_parent\"><img src=\"https://colab.research.google.com/assets/colab-badge.svg\" alt=\"Open In Colab\"/></a>"
      ]
    },
    {
      "cell_type": "code",
      "execution_count": null,
      "metadata": {
        "id": "CLUiBLNfMM5M",
        "outputId": "36afcac2-6b7b-4fcc-931d-3306c94b074d",
        "colab": {
          "base_uri": "https://localhost:8080/"
        }
      },
      "outputs": [
        {
          "output_type": "stream",
          "name": "stdout",
          "text": [
            "Ingresa el primer número: 9\n",
            "Ingresa el segundo número: 14\n",
            "El número más grande es: 14.0\n"
          ]
        }
      ],
      "source": [
        "#1 - Escribe un programa que pida a la persona usuaria que proporcione dos números y muestre el número más grande.\n",
        "n1 = float(input(\"Ingresa el primer número: \"))\n",
        "n2 = float(input(\"Ingresa el segundo número: \"))\n",
        "if n1 > n2:\n",
        "    print(f'El número más grande es: {n1}')\n",
        "else:\n",
        "    print(f'El número más grande es: {n2}')"
      ]
    },
    {
      "cell_type": "code",
      "source": [
        "#Vamos a construir un ejemplo con un contador de 1 hasta 10 usando while\n",
        "\n",
        "contador = 1\n",
        "while contador <= 10:\n",
        "    print(contador)\n",
        "    contador += 1\n",
        "#Vamos a construir un ejemplo con un contador de 1 hasta 10 usando for\n",
        "\n",
        "for contador in range(1, 11):\n",
        "    print(contador)\n"
      ],
      "metadata": {
        "colab": {
          "base_uri": "https://localhost:8080/"
        },
        "id": "dixxkBJpadb4",
        "outputId": "b0f014af-97a8-4839-f979-1696d4668e92"
      },
      "execution_count": 1,
      "outputs": [
        {
          "output_type": "stream",
          "name": "stdout",
          "text": [
            "1\n",
            "2\n",
            "3\n",
            "4\n",
            "5\n",
            "6\n",
            "7\n",
            "8\n",
            "9\n",
            "10\n",
            "1\n",
            "2\n",
            "3\n",
            "4\n",
            "5\n",
            "6\n",
            "7\n",
            "8\n",
            "9\n",
            "10\n"
          ]
        }
      ]
    },
    {
      "cell_type": "code",
      "source": [
        "for i in range(1, 6):\n",
        "    if i == 4:\n",
        "        break\n",
        "    print(i)"
      ],
      "metadata": {
        "colab": {
          "base_uri": "https://localhost:8080/"
        },
        "id": "TpY9r29ne_8h",
        "outputId": "b9775b8a-35e2-4683-ec85-7327002aefb7"
      },
      "execution_count": 2,
      "outputs": [
        {
          "output_type": "stream",
          "name": "stdout",
          "text": [
            "1\n",
            "2\n",
            "3\n"
          ]
        }
      ]
    },
    {
      "cell_type": "code",
      "source": [
        "for i in range(1, 6):\n",
        "    if i == 4:\n",
        "        continue\n",
        "    print(i)"
      ],
      "metadata": {
        "colab": {
          "base_uri": "https://localhost:8080/"
        },
        "id": "RN09Wcs6fFKZ",
        "outputId": "7760bea6-db42-4d0b-b826-bf4c92b2079b"
      },
      "execution_count": 3,
      "outputs": [
        {
          "output_type": "stream",
          "name": "stdout",
          "text": [
            "1\n",
            "2\n",
            "3\n",
            "5\n"
          ]
        }
      ]
    },
    {
      "cell_type": "code",
      "source": [
        "#Escribe un programa que solicite dos números enteros e imprima todos los números enteros entre ellos.\n",
        "n_1 = int(input(\"Ingresa el primer número: \"))\n",
        "n_2 = int(input(\"Ingresa el segundo número: \"))\n",
        "\n",
        "for i in range (n_1+1, n_2):\n",
        "    print(i)"
      ],
      "metadata": {
        "colab": {
          "base_uri": "https://localhost:8080/"
        },
        "id": "F8iSwqe5g4Lv",
        "outputId": "601e99fe-fed3-4905-f2f2-a4f52d093c17"
      },
      "execution_count": 7,
      "outputs": [
        {
          "output_type": "stream",
          "name": "stdout",
          "text": [
            "Ingresa el primer número: 5\n",
            "Ingresa el segundo número: 11\n",
            "6\n",
            "7\n",
            "8\n",
            "9\n",
            "10\n"
          ]
        }
      ]
    },
    {
      "cell_type": "code",
      "source": [
        "#2 - Escribe un programa para calcular cuántos días tomará que la colonia de una bacteria A supere o iguale a la colonia de una bacteria B, basado en tasas de crecimiento del 3% y 1.5%, respectivamente. Supón que la colonia A comienza con 4 elementos y B con 10.\n",
        "contador = 1\n",
        "colonia_A = 4\n",
        "colonia_B = 10\n",
        "\n",
        "while colonia_A < colonia_B:\n",
        "    colonia_A = colonia_A * 1.03\n",
        "    colonia_B = colonia_B * 1.015\n",
        "    contador += 1\n",
        "\n",
        "print(f'Tomará {contador} días que la colonia A supere a la colonia B.')\n",
        "\n",
        "\n"
      ],
      "metadata": {
        "colab": {
          "base_uri": "https://localhost:8080/"
        },
        "id": "KAdMhMmQhi1E",
        "outputId": "d0c29294-80dd-43d1-dc4c-dcae6c419e92"
      },
      "execution_count": 9,
      "outputs": [
        {
          "output_type": "stream",
          "name": "stdout",
          "text": [
            "Tomará 64 días que la colonia A supere a la colonia B.\n"
          ]
        }
      ]
    },
    {
      "cell_type": "code",
      "source": [
        "#Para procesar una cantidad de 15 datos de evaluaciones de usuarios de un servicio de la empresa, necesitamos verificar si las calificaciones son válidas. Por lo tanto, escribe un programa que recibirá calificaciones del 0 al 5 y verificará si son valores válidos. Si se ingresa una calificación superior a 5 o inferior a 0, se repetirá hasta que el usuario ingrese un valor válido.\n",
        "\n",
        "for n in range(15):\n",
        "    calificacion = float(input(\"Ingresa una calificación del 0 al 5: \"))\n",
        "    if calificacion >= 0 and calificacion <= 5:\n",
        "        print(f'La calificación {calificacion} es válida.')\n",
        "    else:\n",
        "        print(f'La calificación {calificacion} no es válida.')\n",
        "\n",
        "\n",
        "\n",
        "\n",
        "\n"
      ],
      "metadata": {
        "colab": {
          "base_uri": "https://localhost:8080/"
        },
        "id": "X71-4JW_iw6d",
        "outputId": "68fed24e-045c-4d7e-9c31-54e53e845677"
      },
      "execution_count": 11,
      "outputs": [
        {
          "output_type": "stream",
          "name": "stdout",
          "text": [
            "Ingresa una calificación del 0 al 5: 9\n",
            "La calificación 9.0 no es válida.\n",
            "Ingresa una calificación del 0 al 5: -7\n",
            "La calificación -7.0 no es válida.\n",
            "Ingresa una calificación del 0 al 5: 4\n",
            "La calificación 4.0 es válida.\n",
            "Ingresa una calificación del 0 al 5: 4\n",
            "La calificación 4.0 es válida.\n",
            "Ingresa una calificación del 0 al 5: 4\n",
            "La calificación 4.0 es válida.\n",
            "Ingresa una calificación del 0 al 5: 4\n",
            "La calificación 4.0 es válida.\n",
            "Ingresa una calificación del 0 al 5: 4\n",
            "La calificación 4.0 es válida.\n",
            "Ingresa una calificación del 0 al 5: 4\n",
            "La calificación 4.0 es válida.\n",
            "Ingresa una calificación del 0 al 5: 4\n",
            "La calificación 4.0 es válida.\n",
            "Ingresa una calificación del 0 al 5: 4\n",
            "La calificación 4.0 es válida.\n",
            "Ingresa una calificación del 0 al 5: 4\n",
            "La calificación 4.0 es válida.\n",
            "Ingresa una calificación del 0 al 5: 4\n",
            "La calificación 4.0 es válida.\n",
            "Ingresa una calificación del 0 al 5: 4\n",
            "La calificación 4.0 es válida.\n",
            "Ingresa una calificación del 0 al 5: 4\n",
            "La calificación 4.0 es válida.\n",
            "Ingresa una calificación del 0 al 5: 4\n",
            "La calificación 4.0 es válida.\n"
          ]
        }
      ]
    },
    {
      "cell_type": "code",
      "source": [
        "# 4 - Desarrolla un programa que lea un conjunto indefinido de temperaturas en grados Celsius y calcule su promedio. La lectura debe detenerse al ingresar el valor -273°C.\n",
        "temperatura = 0\n",
        "contador = 1\n",
        "suma = 0\n",
        "\n",
        "while temperatura > -273:\n",
        "  temperatura = float(input(\"Ingresa una temperatura en grados Celsius: \"))\n",
        "  suma = temperatura + suma\n",
        "  promedio = suma / contador\n",
        "  contador += 1\n",
        "  print(f'El promedio de las temperaturas ingresadas es: {promedio}')\n",
        "\n",
        "\n",
        "\n",
        "\n"
      ],
      "metadata": {
        "colab": {
          "base_uri": "https://localhost:8080/"
        },
        "id": "6PrmgrJHkmTG",
        "outputId": "2a2b5613-8900-44a0-839e-cde0b67784a9"
      },
      "execution_count": 15,
      "outputs": [
        {
          "output_type": "stream",
          "name": "stdout",
          "text": [
            "Ingresa una temperatura en grados Celsius: 8\n",
            "El promedio de las temperaturas ingresadas es: 8.0\n",
            "Ingresa una temperatura en grados Celsius: 2\n",
            "El promedio de las temperaturas ingresadas es: 5.0\n",
            "Ingresa una temperatura en grados Celsius: 15\n",
            "El promedio de las temperaturas ingresadas es: 8.333333333333334\n",
            "Ingresa una temperatura en grados Celsius: -273\n",
            "El promedio de las temperaturas ingresadas es: -62.0\n"
          ]
        }
      ]
    },
    {
      "cell_type": "code",
      "source": [
        "#Escribe un programa que calcule el factorial de un número entero proporcionado por el usuario. Recuerda que el factorial de un número entero es el producto de ese número por todos sus antecesores hasta llegar al número 1. Por ejemplo, el factorial de 5 es 5 x 4 x 3 x 2 x 1 = 120.\n",
        "\n",
        "factorial = int(input(\"Ingresa un número entero: \"))\n",
        "resultado = 1\n",
        "\n",
        "for i in range(1, factorial + 1):\n",
        "    resultado = resultado * i\n",
        "\n",
        "print(f'El factorial de {factorial} es: {resultado}')\n",
        "\n",
        "\n"
      ],
      "metadata": {
        "colab": {
          "base_uri": "https://localhost:8080/"
        },
        "id": "LJIsaNaPm3mM",
        "outputId": "7a727f03-a1de-4b55-84df-7cdf63c2b7bd"
      },
      "execution_count": 19,
      "outputs": [
        {
          "output_type": "stream",
          "name": "stdout",
          "text": [
            "Ingresa un número entero: 4\n",
            "El factorial de 4 es: 24\n"
          ]
        }
      ]
    },
    {
      "cell_type": "code",
      "source": [
        "###\n",
        "#Escribe un programa que genere la tabla de multiplicar de un número entero del 1 al 10, según la elección del usuario. Como ejemplo, para el número 2, la tabla de multiplicar debe mostrarse en el siguiente formato: Tabla de multiplicar del 2:\n",
        "#2 x 1 = 2\n",
        "#2 x 2 = 4\n",
        "#[...]\n",
        "#2 x 10 = 20\n",
        "\n",
        "tabla_multiplicar = int(input(\"Ingresa la tabla de multiplicar del 1 al 10 que quieras saber: \"))\n",
        "\n",
        "for i in range(1, 11):\n",
        "    print(f'{tabla_multiplicar} x {i} = {tabla_multiplicar * i}')\n",
        "\n",
        "\n"
      ],
      "metadata": {
        "colab": {
          "base_uri": "https://localhost:8080/"
        },
        "id": "k71lBj6rnVUC",
        "outputId": "981f5778-e42e-474e-a65a-8b1247921546"
      },
      "execution_count": 22,
      "outputs": [
        {
          "output_type": "stream",
          "name": "stdout",
          "text": [
            "Ingresa la tabla de multiplicar del 1 al 10 que quieras saber: 9\n",
            "9 x 1 = 9\n",
            "9 x 2 = 18\n",
            "9 x 3 = 27\n",
            "9 x 4 = 36\n",
            "9 x 5 = 45\n",
            "9 x 6 = 54\n",
            "9 x 7 = 63\n",
            "9 x 8 = 72\n",
            "9 x 9 = 81\n",
            "9 x 10 = 90\n"
          ]
        }
      ]
    },
    {
      "cell_type": "markdown",
      "source": [],
      "metadata": {
        "id": "KOzKMKdeoJHl"
      }
    },
    {
      "cell_type": "code",
      "source": [
        "#crea un programa que solicite un número entero y determine si es un número primo o no.\n",
        "\n",
        "numero = int(input(\"Ingresa un número entero para saber si es primo o no: \"))\n",
        "contador = 0\n",
        "\n",
        "for i in range(1, numero + 1):\n",
        "    if numero % i == 0:\n",
        "        contador += 1\n",
        "\n",
        "if contador == 2:\n",
        "    print(f'{numero} es un número primo.')\n",
        "\n",
        "else:\n",
        "    print(f'{numero} no es un número primo.')\n"
      ],
      "metadata": {
        "id": "h8awxTfUoVcz",
        "outputId": "28acefb2-eab9-45c3-def4-8f142799fb86",
        "colab": {
          "base_uri": "https://localhost:8080/"
        }
      },
      "execution_count": 29,
      "outputs": [
        {
          "output_type": "stream",
          "name": "stdout",
          "text": [
            "Ingresa un número entero para saber si es primo o no: 0\n",
            "0 no es un número primo.\n"
          ]
        }
      ]
    },
    {
      "cell_type": "code",
      "source": [
        "#Vamos a comprender la distribución de edades de los pensionistas de una empresa de seguros. Escribe un programa que lea las edades de una cantidad no informada de clientes y muestre la distribución en los intervalos [0-25], [26-50], [51-75] y [76-100]. La entrada de datos se detendrá al ingresar un número negativo.\n",
        "edad = 0\n",
        "interval0_25 = 0\n",
        "interval26_50 = 0\n",
        "interval51_75 = 0\n",
        "interval76_100 = 0\n",
        "\n",
        "while edad >= 0:\n",
        "    edad = int(input(\"Ingresa la edad del pensionista: \"))\n",
        "    if edad >= 0 and edad <= 25:\n",
        "       interval0_25 +=1\n",
        "    elif edad >= 26 and edad <= 50:\n",
        "       interval26_50 +=1\n",
        "    elif edad >= 51 and edad <= 75:\n",
        "       interval51_75 +=1\n",
        "    elif edad >= 76 and edad <= 100:\n",
        "       interval76_100 +=1\n",
        "\n",
        "    print(f'La distribución de edades de los pensionistas es: \\n[0-25]: {interval0_25} \\n[26-50]: {interval26_50} \\n[51-75]: {interval51_75} \\n[76-100]: {interval76_100}')\n",
        "\n",
        "\n",
        "\n"
      ],
      "metadata": {
        "id": "t_zjTlUtqAL0",
        "outputId": "128592f9-3f62-4d12-e7cc-5ddb918e7163",
        "colab": {
          "base_uri": "https://localhost:8080/"
        }
      },
      "execution_count": null,
      "outputs": [
        {
          "output_type": "stream",
          "name": "stdout",
          "text": [
            "Ingresa la edad del pensionista: 78\n",
            "La distribución de edades de los pensionistas es: \n",
            "[0-25]: 0 \n",
            "[26-50]: 0 \n",
            "[51-75]: 0 \n",
            "[76-100]: 1\n",
            "Ingresa la edad del pensionista: 25\n",
            "La distribución de edades de los pensionistas es: \n",
            "[0-25]: 1 \n",
            "[26-50]: 0 \n",
            "[51-75]: 0 \n",
            "[76-100]: 1\n",
            "Ingresa la edad del pensionista: 99\n",
            "La distribución de edades de los pensionistas es: \n",
            "[0-25]: 1 \n",
            "[26-50]: 0 \n",
            "[51-75]: 0 \n",
            "[76-100]: 2\n",
            "Ingresa la edad del pensionista: 100\n",
            "La distribución de edades de los pensionistas es: \n",
            "[0-25]: 1 \n",
            "[26-50]: 0 \n",
            "[51-75]: 0 \n",
            "[76-100]: 3\n",
            "Ingresa la edad del pensionista: 101\n",
            "La distribución de edades de los pensionistas es: \n",
            "[0-25]: 1 \n",
            "[26-50]: 0 \n",
            "[51-75]: 0 \n",
            "[76-100]: 3\n",
            "Ingresa la edad del pensionista: 52\n",
            "La distribución de edades de los pensionistas es: \n",
            "[0-25]: 1 \n",
            "[26-50]: 0 \n",
            "[51-75]: 1 \n",
            "[76-100]: 3\n",
            "Ingresa la edad del pensionista: 27\n",
            "La distribución de edades de los pensionistas es: \n",
            "[0-25]: 1 \n",
            "[26-50]: 1 \n",
            "[51-75]: 1 \n",
            "[76-100]: 3\n"
          ]
        }
      ]
    }
  ]
}