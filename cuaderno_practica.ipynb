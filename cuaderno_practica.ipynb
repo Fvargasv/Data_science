{
  "nbformat": 4,
  "nbformat_minor": 0,
  "metadata": {
    "colab": {
      "provenance": [],
      "authorship_tag": "ABX9TyM4Fk55PPntizi7SFnKBXCv",
      "include_colab_link": true
    },
    "kernelspec": {
      "name": "python3",
      "display_name": "Python 3"
    },
    "language_info": {
      "name": "python"
    }
  },
  "cells": [
    {
      "cell_type": "markdown",
      "metadata": {
        "id": "view-in-github",
        "colab_type": "text"
      },
      "source": [
        "<a href=\"https://colab.research.google.com/github/Fvargasv/Data_science/blob/main/cuaderno_practica.ipynb\" target=\"_parent\"><img src=\"https://colab.research.google.com/assets/colab-badge.svg\" alt=\"Open In Colab\"/></a>"
      ]
    },
    {
      "cell_type": "code",
      "execution_count": null,
      "metadata": {
        "id": "CLUiBLNfMM5M",
        "outputId": "36afcac2-6b7b-4fcc-931d-3306c94b074d",
        "colab": {
          "base_uri": "https://localhost:8080/"
        }
      },
      "outputs": [
        {
          "output_type": "stream",
          "name": "stdout",
          "text": [
            "Ingresa el primer número: 9\n",
            "Ingresa el segundo número: 14\n",
            "El número más grande es: 14.0\n"
          ]
        }
      ],
      "source": [
        "#1 - Escribe un programa que pida a la persona usuaria que proporcione dos números y muestre el número más grande.\n",
        "n1 = float(input(\"Ingresa el primer número: \"))\n",
        "n2 = float(input(\"Ingresa el segundo número: \"))\n",
        "if n1 > n2:\n",
        "    print(f'El número más grande es: {n1}')\n",
        "else:\n",
        "    print(f'El número más grande es: {n2}')"
      ]
    },
    {
      "cell_type": "code",
      "source": [
        "#Vamos a construir un ejemplo con un contador de 1 hasta 10 usando while\n",
        "\n",
        "contador = 1\n",
        "while contador <= 10:\n",
        "    print(contador)\n",
        "    contador += 1\n",
        "#Vamos a construir un ejemplo con un contador de 1 hasta 10 usando for\n",
        "\n",
        "for contador in range(1, 11):\n",
        "    print(contador)\n"
      ],
      "metadata": {
        "colab": {
          "base_uri": "https://localhost:8080/"
        },
        "id": "dixxkBJpadb4",
        "outputId": "b0f014af-97a8-4839-f979-1696d4668e92"
      },
      "execution_count": 1,
      "outputs": [
        {
          "output_type": "stream",
          "name": "stdout",
          "text": [
            "1\n",
            "2\n",
            "3\n",
            "4\n",
            "5\n",
            "6\n",
            "7\n",
            "8\n",
            "9\n",
            "10\n",
            "1\n",
            "2\n",
            "3\n",
            "4\n",
            "5\n",
            "6\n",
            "7\n",
            "8\n",
            "9\n",
            "10\n"
          ]
        }
      ]
    },
    {
      "cell_type": "code",
      "source": [
        "for i in range(1, 6):\n",
        "    if i == 4:\n",
        "        break\n",
        "    print(i)"
      ],
      "metadata": {
        "colab": {
          "base_uri": "https://localhost:8080/"
        },
        "id": "TpY9r29ne_8h",
        "outputId": "b9775b8a-35e2-4683-ec85-7327002aefb7"
      },
      "execution_count": 2,
      "outputs": [
        {
          "output_type": "stream",
          "name": "stdout",
          "text": [
            "1\n",
            "2\n",
            "3\n"
          ]
        }
      ]
    },
    {
      "cell_type": "code",
      "source": [
        "for i in range(1, 6):\n",
        "    if i == 4:\n",
        "        continue\n",
        "    print(i)"
      ],
      "metadata": {
        "colab": {
          "base_uri": "https://localhost:8080/"
        },
        "id": "RN09Wcs6fFKZ",
        "outputId": "7760bea6-db42-4d0b-b826-bf4c92b2079b"
      },
      "execution_count": 3,
      "outputs": [
        {
          "output_type": "stream",
          "name": "stdout",
          "text": [
            "1\n",
            "2\n",
            "3\n",
            "5\n"
          ]
        }
      ]
    },
    {
      "cell_type": "code",
      "source": [
        "#Escribe un programa que solicite dos números enteros e imprima todos los números enteros entre ellos.\n",
        "n_1 = int(input(\"Ingresa el primer número: \"))\n",
        "n_2 = int(input(\"Ingresa el segundo número: \"))\n",
        "\n",
        "for i in range (n_1+1, n_2):\n",
        "    print(i)"
      ],
      "metadata": {
        "id": "F8iSwqe5g4Lv",
        "outputId": "601e99fe-fed3-4905-f2f2-a4f52d093c17",
        "colab": {
          "base_uri": "https://localhost:8080/"
        }
      },
      "execution_count": 7,
      "outputs": [
        {
          "output_type": "stream",
          "name": "stdout",
          "text": [
            "Ingresa el primer número: 5\n",
            "Ingresa el segundo número: 11\n",
            "6\n",
            "7\n",
            "8\n",
            "9\n",
            "10\n"
          ]
        }
      ]
    },
    {
      "cell_type": "code",
      "source": [
        "#2 - Escribe un programa para calcular cuántos días tomará que la colonia de una bacteria A supere o iguale a la colonia de una bacteria B, basado en tasas de crecimiento del 3% y 1.5%, respectivamente. Supón que la colonia A comienza con 4 elementos y B con 10.\n",
        "contador = 1\n",
        "colonia_A = 4\n",
        "colonia_B = 10\n",
        "\n",
        "while colonia_A < colonia_B:\n",
        "    colonia_A = colonia_A * 1.03\n",
        "    colonia_B = colonia_B * 1.015\n",
        "    contador += 1\n",
        "\n",
        "print(f'Tomará {contador} días que la colonia A supere a la colonia B.')\n",
        "\n",
        "\n"
      ],
      "metadata": {
        "id": "KAdMhMmQhi1E",
        "outputId": "d0c29294-80dd-43d1-dc4c-dcae6c419e92",
        "colab": {
          "base_uri": "https://localhost:8080/"
        }
      },
      "execution_count": 9,
      "outputs": [
        {
          "output_type": "stream",
          "name": "stdout",
          "text": [
            "Tomará 64 días que la colonia A supere a la colonia B.\n"
          ]
        }
      ]
    },
    {
      "cell_type": "code",
      "source": [],
      "metadata": {
        "id": "X71-4JW_iw6d"
      },
      "execution_count": null,
      "outputs": []
    }
  ]
}